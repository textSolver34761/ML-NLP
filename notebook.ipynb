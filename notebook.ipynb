{
<<<<<<< HEAD
 "cells": [
  {
   "cell_type": "code",
   "execution_count": 20,
   "metadata": {},
   "outputs": [],
   "source": [
    "import pandas as pd\n",
    "import seaborn as sns\n",
    "import matplotlib.pyplot as pl"
   ]
  },
  {
   "cell_type": "code",
   "execution_count": 4,
   "metadata": {},
   "outputs": [
    {
     "data": {
      "text/html": [
       "<div>\n",
       "<style scoped>\n",
       "    .dataframe tbody tr th:only-of-type {\n",
       "        vertical-align: middle;\n",
       "    }\n",
       "\n",
       "    .dataframe tbody tr th {\n",
       "        vertical-align: top;\n",
       "    }\n",
       "\n",
       "    .dataframe thead th {\n",
       "        text-align: right;\n",
       "    }\n",
       "</style>\n",
       "<table border=\"1\" class=\"dataframe\">\n",
       "  <thead>\n",
       "    <tr style=\"text-align: right;\">\n",
       "      <th></th>\n",
       "      <th>label</th>\n",
       "      <th>tweet_id</th>\n",
       "      <th>date</th>\n",
       "      <th>query</th>\n",
       "      <th>user_name</th>\n",
       "      <th>text</th>\n",
       "    </tr>\n",
       "  </thead>\n",
       "  <tbody>\n",
       "    <tr>\n",
       "      <th>0</th>\n",
       "      <td>0</td>\n",
       "      <td>1467810369</td>\n",
       "      <td>Mon Apr 06 22:19:45 PDT 2009</td>\n",
       "      <td>NO_QUERY</td>\n",
       "      <td>_TheSpecialOne_</td>\n",
       "      <td>@switchfoot http://twitpic.com/2y1zl - Awww, t...</td>\n",
       "    </tr>\n",
       "    <tr>\n",
       "      <th>1</th>\n",
       "      <td>0</td>\n",
       "      <td>1467810672</td>\n",
       "      <td>Mon Apr 06 22:19:49 PDT 2009</td>\n",
       "      <td>NO_QUERY</td>\n",
       "      <td>scotthamilton</td>\n",
       "      <td>is upset that he can't update his Facebook by ...</td>\n",
       "    </tr>\n",
       "    <tr>\n",
       "      <th>2</th>\n",
       "      <td>0</td>\n",
       "      <td>1467810917</td>\n",
       "      <td>Mon Apr 06 22:19:53 PDT 2009</td>\n",
       "      <td>NO_QUERY</td>\n",
       "      <td>mattycus</td>\n",
       "      <td>@Kenichan I dived many times for the ball. Man...</td>\n",
       "    </tr>\n",
       "    <tr>\n",
       "      <th>3</th>\n",
       "      <td>0</td>\n",
       "      <td>1467811184</td>\n",
       "      <td>Mon Apr 06 22:19:57 PDT 2009</td>\n",
       "      <td>NO_QUERY</td>\n",
       "      <td>ElleCTF</td>\n",
       "      <td>my whole body feels itchy and like its on fire</td>\n",
       "    </tr>\n",
       "    <tr>\n",
       "      <th>4</th>\n",
       "      <td>0</td>\n",
       "      <td>1467811193</td>\n",
       "      <td>Mon Apr 06 22:19:57 PDT 2009</td>\n",
       "      <td>NO_QUERY</td>\n",
       "      <td>Karoli</td>\n",
       "      <td>@nationwideclass no, it's not behaving at all....</td>\n",
       "    </tr>\n",
       "    <tr>\n",
       "      <th>...</th>\n",
       "      <td>...</td>\n",
       "      <td>...</td>\n",
       "      <td>...</td>\n",
       "      <td>...</td>\n",
       "      <td>...</td>\n",
       "      <td>...</td>\n",
       "    </tr>\n",
       "    <tr>\n",
       "      <th>1599995</th>\n",
       "      <td>4</td>\n",
       "      <td>2193601966</td>\n",
       "      <td>Tue Jun 16 08:40:49 PDT 2009</td>\n",
       "      <td>NO_QUERY</td>\n",
       "      <td>AmandaMarie1028</td>\n",
       "      <td>Just woke up. Having no school is the best fee...</td>\n",
       "    </tr>\n",
       "    <tr>\n",
       "      <th>1599996</th>\n",
       "      <td>4</td>\n",
       "      <td>2193601969</td>\n",
       "      <td>Tue Jun 16 08:40:49 PDT 2009</td>\n",
       "      <td>NO_QUERY</td>\n",
       "      <td>TheWDBoards</td>\n",
       "      <td>TheWDB.com - Very cool to hear old Walt interv...</td>\n",
       "    </tr>\n",
       "    <tr>\n",
       "      <th>1599997</th>\n",
       "      <td>4</td>\n",
       "      <td>2193601991</td>\n",
       "      <td>Tue Jun 16 08:40:49 PDT 2009</td>\n",
       "      <td>NO_QUERY</td>\n",
       "      <td>bpbabe</td>\n",
       "      <td>Are you ready for your MoJo Makeover? Ask me f...</td>\n",
       "    </tr>\n",
       "    <tr>\n",
       "      <th>1599998</th>\n",
       "      <td>4</td>\n",
       "      <td>2193602064</td>\n",
       "      <td>Tue Jun 16 08:40:49 PDT 2009</td>\n",
       "      <td>NO_QUERY</td>\n",
       "      <td>tinydiamondz</td>\n",
       "      <td>Happy 38th Birthday to my boo of alll time!!! ...</td>\n",
       "    </tr>\n",
       "    <tr>\n",
       "      <th>1599999</th>\n",
       "      <td>4</td>\n",
       "      <td>2193602129</td>\n",
       "      <td>Tue Jun 16 08:40:50 PDT 2009</td>\n",
       "      <td>NO_QUERY</td>\n",
       "      <td>RyanTrevMorris</td>\n",
       "      <td>happy #charitytuesday @theNSPCC @SparksCharity...</td>\n",
       "    </tr>\n",
       "  </tbody>\n",
       "</table>\n",
       "<p>1600000 rows × 6 columns</p>\n",
       "</div>"
      ],
      "text/plain": [
       "         label    tweet_id                          date     query  \\\n",
       "0            0  1467810369  Mon Apr 06 22:19:45 PDT 2009  NO_QUERY   \n",
       "1            0  1467810672  Mon Apr 06 22:19:49 PDT 2009  NO_QUERY   \n",
       "2            0  1467810917  Mon Apr 06 22:19:53 PDT 2009  NO_QUERY   \n",
       "3            0  1467811184  Mon Apr 06 22:19:57 PDT 2009  NO_QUERY   \n",
       "4            0  1467811193  Mon Apr 06 22:19:57 PDT 2009  NO_QUERY   \n",
       "...        ...         ...                           ...       ...   \n",
       "1599995      4  2193601966  Tue Jun 16 08:40:49 PDT 2009  NO_QUERY   \n",
       "1599996      4  2193601969  Tue Jun 16 08:40:49 PDT 2009  NO_QUERY   \n",
       "1599997      4  2193601991  Tue Jun 16 08:40:49 PDT 2009  NO_QUERY   \n",
       "1599998      4  2193602064  Tue Jun 16 08:40:49 PDT 2009  NO_QUERY   \n",
       "1599999      4  2193602129  Tue Jun 16 08:40:50 PDT 2009  NO_QUERY   \n",
       "\n",
       "               user_name                                               text  \n",
       "0        _TheSpecialOne_  @switchfoot http://twitpic.com/2y1zl - Awww, t...  \n",
       "1          scotthamilton  is upset that he can't update his Facebook by ...  \n",
       "2               mattycus  @Kenichan I dived many times for the ball. Man...  \n",
       "3                ElleCTF    my whole body feels itchy and like its on fire   \n",
       "4                 Karoli  @nationwideclass no, it's not behaving at all....  \n",
       "...                  ...                                                ...  \n",
       "1599995  AmandaMarie1028  Just woke up. Having no school is the best fee...  \n",
       "1599996      TheWDBoards  TheWDB.com - Very cool to hear old Walt interv...  \n",
       "1599997           bpbabe  Are you ready for your MoJo Makeover? Ask me f...  \n",
       "1599998     tinydiamondz  Happy 38th Birthday to my boo of alll time!!! ...  \n",
       "1599999   RyanTrevMorris  happy #charitytuesday @theNSPCC @SparksCharity...  \n",
       "\n",
       "[1600000 rows x 6 columns]"
      ]
     },
     "execution_count": 4,
     "metadata": {},
     "output_type": "execute_result"
    }
   ],
   "source": [
    "fichier = pd.read_csv(\"twittercomment.csv\", engine = 'python')\n",
    "fichier"
   ]
  },
  {
   "cell_type": "markdown",
   "metadata": {},
   "source": []
  },
  {
   "cell_type": "code",
   "execution_count": 21,
   "metadata": {},
   "outputs": [
    {
     "data": {
      "image/png": "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\n",
      "text/plain": [
       "<Figure size 432x288 with 1 Axes>"
      ]
     },
     "metadata": {
      "needs_background": "light"
     },
     "output_type": "display_data"
    }
   ],
   "source": [
    "ax = fichier.groupby('label').count().plot(kind='bar', title='Proportion des tweets positif et négatif',legend=False)\n",
    "ax.set_xticklabels(['Negatif','Positif'], rotation=0)\n",
    "text, sentiment = list(fichier['text']), list(fichier['label'])"
   ]
  },
  {
   "cell_type": "code",
   "execution_count": null,
   "metadata": {},
   "outputs": [],
   "source": []
  }
 ],
=======
 "cells": [],
>>>>>>> e113990a685afdfc7d1d5241091766f3321a89a2
 "metadata": {
  "kernelspec": {
   "display_name": "Python 3",
   "language": "python",
   "name": "python3"
  },
  "language_info": {
   "codemirror_mode": {
    "name": "ipython",
    "version": 3
   },
   "file_extension": ".py",
   "mimetype": "text/x-python",
   "name": "python",
   "nbconvert_exporter": "python",
   "pygments_lexer": "ipython3",
   "version": "3.8.5"
  }
 },
 "nbformat": 4,
 "nbformat_minor": 4
}